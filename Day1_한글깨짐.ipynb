{
 "cells": [
  {
   "cell_type": "code",
   "execution_count": 4,
   "metadata": {},
   "outputs": [],
   "source": [
    "import matplotlib as mpl\n",
    "import matplotlib.pyplot as plt\n",
    "import matplotlib.font_manager as fm"
   ]
  },
  {
   "cell_type": "code",
   "execution_count": 2,
   "metadata": {},
   "outputs": [
    {
     "name": "stderr",
     "output_type": "stream",
     "text": [
      "\n",
      "Bad key \"axes_unicode_minus\" on line 3 in\n",
      "/home/jovyan/.config/matplotlib/matplotlibrc.\n",
      "You probably need to get an updated matplotlibrc file from\n",
      "http://github.com/matplotlib/matplotlib/blob/master/matplotlibrc.template\n",
      "or from the matplotlib source distribution\n"
     ]
    },
    {
     "data": {
      "text/plain": [
       "['/opt/conda/lib/python3.7/site-packages/matplotlib/mpl-data/fonts/ttf/cmsy10.ttf',\n",
       " '/opt/conda/lib/python3.7/site-packages/matplotlib/mpl-data/fonts/ttf/cmex10.ttf',\n",
       " '/opt/conda/lib/python3.7/site-packages/matplotlib/mpl-data/fonts/ttf/STIXNonUniBolIta.ttf',\n",
       " '/opt/conda/lib/python3.7/site-packages/matplotlib/mpl-data/fonts/ttf/DejaVuSansMono-Bold.ttf',\n",
       " '/opt/conda/lib/python3.7/site-packages/matplotlib/mpl-data/fonts/ttf/cmmi10.ttf',\n",
       " '/opt/conda/lib/python3.7/site-packages/matplotlib/mpl-data/fonts/ttf/STIXNonUniBol.ttf',\n",
       " '/opt/conda/lib/python3.7/site-packages/matplotlib/mpl-data/fonts/ttf/DejaVuSans-Bold.ttf',\n",
       " '/opt/conda/lib/python3.7/site-packages/matplotlib/mpl-data/fonts/ttf/DejaVuSerif-Bold.ttf',\n",
       " '/opt/conda/lib/python3.7/site-packages/matplotlib/mpl-data/fonts/ttf/DejaVuSans-Oblique.ttf',\n",
       " '/opt/conda/lib/python3.7/site-packages/matplotlib/mpl-data/fonts/ttf/cmtt10.ttf',\n",
       " '/opt/conda/lib/python3.7/site-packages/matplotlib/mpl-data/fonts/ttf/STIXGeneral.ttf',\n",
       " '/opt/conda/lib/python3.7/site-packages/matplotlib/mpl-data/fonts/ttf/DejaVuSerifDisplay.ttf',\n",
       " '/opt/conda/lib/python3.7/site-packages/matplotlib/mpl-data/fonts/ttf/STIXSizTwoSymBol.ttf',\n",
       " '/opt/conda/lib/python3.7/site-packages/matplotlib/mpl-data/fonts/ttf/STIXSizFourSymReg.ttf',\n",
       " '/opt/conda/lib/python3.7/site-packages/matplotlib/mpl-data/fonts/ttf/STIXSizThreeSymBol.ttf',\n",
       " '/opt/conda/lib/python3.7/site-packages/matplotlib/mpl-data/fonts/ttf/STIXGeneralItalic.ttf',\n",
       " '/opt/conda/lib/python3.7/site-packages/matplotlib/mpl-data/fonts/ttf/STIXGeneralBol.ttf',\n",
       " '/opt/conda/lib/python3.7/site-packages/matplotlib/mpl-data/fonts/ttf/DejaVuSansDisplay.ttf',\n",
       " '/opt/conda/lib/python3.7/site-packages/matplotlib/mpl-data/fonts/ttf/STIXSizThreeSymReg.ttf',\n",
       " '/opt/conda/lib/python3.7/site-packages/matplotlib/mpl-data/fonts/ttf/STIXNonUni.ttf',\n",
       " '/opt/conda/lib/python3.7/site-packages/matplotlib/mpl-data/fonts/ttf/STIXNonUniIta.ttf',\n",
       " '/opt/conda/lib/python3.7/site-packages/matplotlib/mpl-data/fonts/ttf/NanumGothicCoding-Bold.ttf',\n",
       " '/opt/conda/lib/python3.7/site-packages/matplotlib/mpl-data/fonts/ttf/DejaVuSansMono-BoldOblique.ttf',\n",
       " '/opt/conda/lib/python3.7/site-packages/matplotlib/mpl-data/fonts/ttf/DejaVuSansMono-Oblique.ttf',\n",
       " '/opt/conda/lib/python3.7/site-packages/matplotlib/mpl-data/fonts/ttf/DejaVuSerif.ttf',\n",
       " '/opt/conda/lib/python3.7/site-packages/matplotlib/mpl-data/fonts/ttf/NanumGothicCoding.ttf',\n",
       " '/opt/conda/lib/python3.7/site-packages/matplotlib/mpl-data/fonts/ttf/cmss10.ttf',\n",
       " '/opt/conda/lib/python3.7/site-packages/matplotlib/mpl-data/fonts/ttf/cmb10.ttf',\n",
       " '/opt/conda/lib/python3.7/site-packages/matplotlib/mpl-data/fonts/ttf/STIXSizTwoSymReg.ttf',\n",
       " '/opt/conda/lib/python3.7/site-packages/matplotlib/mpl-data/fonts/ttf/DejaVuSerif-BoldItalic.ttf',\n",
       " '/opt/conda/lib/python3.7/site-packages/matplotlib/mpl-data/fonts/ttf/DejaVuSerif-Italic.ttf',\n",
       " '/opt/conda/lib/python3.7/site-packages/matplotlib/mpl-data/fonts/ttf/STIXSizFiveSymReg.ttf',\n",
       " '/opt/conda/lib/python3.7/site-packages/matplotlib/mpl-data/fonts/ttf/STIXSizFourSymBol.ttf',\n",
       " '/opt/conda/lib/python3.7/site-packages/matplotlib/mpl-data/fonts/ttf/DejaVuSansMono.ttf',\n",
       " '/opt/conda/lib/python3.7/site-packages/matplotlib/mpl-data/fonts/ttf/DejaVuSans-BoldOblique.ttf',\n",
       " '/opt/conda/lib/python3.7/site-packages/matplotlib/mpl-data/fonts/ttf/DejaVuSans.ttf',\n",
       " '/opt/conda/lib/python3.7/site-packages/matplotlib/mpl-data/fonts/ttf/cmr10.ttf',\n",
       " '/opt/conda/lib/python3.7/site-packages/matplotlib/mpl-data/fonts/ttf/STIXSizOneSymBol.ttf',\n",
       " '/opt/conda/lib/python3.7/site-packages/matplotlib/mpl-data/fonts/ttf/STIXSizOneSymReg.ttf',\n",
       " '/opt/conda/lib/python3.7/site-packages/matplotlib/mpl-data/fonts/ttf/STIXGeneralBolIta.ttf',\n",
       " '/usr/share/texmf/fonts/opentype/public/lm/lmroman12-bold.otf',\n",
       " '/usr/share/texmf/fonts/opentype/public/lm/lmroman6-regular.otf',\n",
       " '/usr/share/texmf/fonts/opentype/public/lm/lmmonolt10-bold.otf',\n",
       " '/usr/share/texmf/fonts/opentype/public/lm/lmroman12-regular.otf',\n",
       " '/usr/share/texmf/fonts/opentype/public/lm/lmroman7-italic.otf',\n",
       " '/usr/share/texmf/fonts/opentype/public/lm/lmroman5-regular.otf',\n",
       " '/usr/share/texmf/fonts/opentype/public/lm/lmromandemi10-regular.otf',\n",
       " '/usr/share/texmf/fonts/opentype/public/lm/lmroman6-bold.otf',\n",
       " '/usr/share/texmf/fonts/opentype/public/lm/lmroman12-italic.otf',\n",
       " '/usr/share/texmf/fonts/opentype/public/lm/lmmonolt10-oblique.otf',\n",
       " '/usr/share/texmf/fonts/opentype/public/lm/lmsans10-regular.otf',\n",
       " '/usr/share/texmf/fonts/opentype/public/lm/lmsans9-oblique.otf',\n",
       " '/usr/share/texmf/fonts/opentype/public/lm/lmroman10-italic.otf',\n",
       " '/usr/share/fonts/truetype/liberation/LiberationSerif-Regular.ttf',\n",
       " '/usr/share/texmf/fonts/opentype/public/lm/lmroman9-regular.otf',\n",
       " '/usr/share/texmf/fonts/opentype/public/lm/lmromanslant10-bold.otf',\n",
       " '/usr/share/texmf/fonts/opentype/public/lm/lmroman7-regular.otf',\n",
       " '/usr/share/texmf/fonts/opentype/public/lm/lmmonoproplt10-bold.otf',\n",
       " '/usr/share/texmf/fonts/opentype/public/lm/lmmonocaps10-oblique.otf',\n",
       " '/usr/share/texmf/fonts/opentype/public/lm/lmmonoprop10-regular.otf',\n",
       " '/usr/share/texmf/fonts/opentype/public/lm/lmmono8-regular.otf',\n",
       " '/usr/share/texmf/fonts/opentype/public/lm/lmsansquot8-regular.otf',\n",
       " '/usr/share/texmf/fonts/opentype/public/lm/lmsans8-regular.otf',\n",
       " '/usr/share/texmf/fonts/opentype/public/lm/lmromancaps10-oblique.otf',\n",
       " '/usr/share/texmf/fonts/opentype/public/lm/lmsans12-regular.otf',\n",
       " '/usr/share/texmf/fonts/opentype/public/lm/lmsans9-regular.otf',\n",
       " '/usr/share/fonts/truetype/liberation/LiberationMono-BoldItalic.ttf',\n",
       " '/usr/share/texmf/fonts/opentype/public/lm/lmsansdemicond10-regular.otf',\n",
       " '/usr/share/texmf/fonts/opentype/public/lm/lmroman7-bold.otf',\n",
       " '/usr/share/texmf/fonts/opentype/public/lm/lmmonoproplt10-regular.otf',\n",
       " '/usr/share/texmf/fonts/opentype/public/lm/lmroman10-bold.otf',\n",
       " '/usr/share/fonts/truetype/liberation/LiberationSerif-BoldItalic.ttf',\n",
       " '/usr/share/texmf/fonts/opentype/public/lm/lmmono10-regular.otf',\n",
       " '/usr/share/texmf/fonts/opentype/public/lm/lmsansdemicond10-oblique.otf',\n",
       " '/usr/share/texmf/fonts/opentype/public/lm/lmromandunh10-oblique.otf',\n",
       " '/usr/share/texmf/fonts/opentype/public/lm/lmmonoproplt10-boldoblique.otf',\n",
       " '/usr/share/fonts/truetype/liberation/LiberationSans-Bold.ttf',\n",
       " '/usr/share/fonts/truetype/liberation/LiberationSansNarrow-Bold.ttf',\n",
       " '/usr/share/texmf/fonts/opentype/public/lm/lmroman8-italic.otf',\n",
       " '/usr/share/texmf/fonts/opentype/public/lm/lmsans17-regular.otf',\n",
       " '/usr/share/fonts/truetype/liberation/LiberationSansNarrow-Italic.ttf',\n",
       " '/usr/share/texmf/fonts/opentype/public/lm/lmsans8-oblique.otf',\n",
       " '/usr/share/texmf/fonts/opentype/public/lm/lmsansquot8-oblique.otf',\n",
       " '/usr/share/texmf/fonts/opentype/public/lm-math/latinmodern-math.otf',\n",
       " '/usr/share/texmf/fonts/opentype/public/lm/lmroman9-bold.otf',\n",
       " '/usr/share/texmf/fonts/opentype/public/lm/lmroman8-regular.otf',\n",
       " '/usr/share/texmf/fonts/opentype/public/lm/lmromancaps10-regular.otf',\n",
       " '/usr/share/fonts/truetype/liberation/LiberationSans-BoldItalic.ttf',\n",
       " '/usr/share/texmf/fonts/opentype/public/lm/lmmonoproplt10-oblique.otf',\n",
       " '/usr/share/texmf/fonts/opentype/public/lm/lmmonoltcond10-oblique.otf',\n",
       " '/usr/share/texmf/fonts/opentype/public/lm/lmsansquot8-boldoblique.otf',\n",
       " '/usr/share/texmf/fonts/opentype/public/lm/lmsans10-oblique.otf',\n",
       " '/usr/share/texmf/fonts/opentype/public/lm/lmroman10-bolditalic.otf',\n",
       " '/usr/share/texmf/fonts/opentype/public/lm/lmmonocaps10-regular.otf',\n",
       " '/usr/share/texmf/fonts/opentype/public/lm/lmsans12-oblique.otf',\n",
       " '/usr/share/texmf/fonts/opentype/public/lm/lmsansquot8-bold.otf',\n",
       " '/usr/share/texmf/fonts/opentype/public/lm/lmroman9-italic.otf',\n",
       " '/usr/share/fonts/truetype/liberation/LiberationMono-Regular.ttf',\n",
       " '/usr/share/fonts/truetype/liberation/LiberationSerif-Bold.ttf',\n",
       " '/usr/share/texmf/fonts/opentype/public/lm/lmromanslant12-regular.otf',\n",
       " '/usr/share/texmf/fonts/opentype/public/lm/lmromanunsl10-regular.otf',\n",
       " '/usr/share/texmf/fonts/opentype/public/lm/lmmonolt10-boldoblique.otf',\n",
       " '/usr/share/texmf/fonts/opentype/public/lm/lmromanslant17-regular.otf',\n",
       " '/usr/share/fonts/truetype/liberation/LiberationSerif-Italic.ttf',\n",
       " '/usr/share/texmf/fonts/opentype/public/lm/lmroman10-regular.otf',\n",
       " '/usr/share/fonts/truetype/liberation/LiberationSans-Italic.ttf',\n",
       " '/usr/share/texmf/fonts/opentype/public/lm/lmromandunh10-regular.otf',\n",
       " '/usr/share/texmf/fonts/opentype/public/lm/lmroman8-bold.otf',\n",
       " '/usr/share/texmf/fonts/opentype/public/lm/lmmonoltcond10-regular.otf',\n",
       " '/usr/share/texmf/fonts/opentype/public/lm/lmmonolt10-regular.otf',\n",
       " '/usr/share/fonts/truetype/liberation/LiberationMono-Italic.ttf',\n",
       " '/usr/share/texmf/fonts/opentype/public/lm/lmroman5-bold.otf',\n",
       " '/usr/share/fonts/truetype/liberation/LiberationSansNarrow-Regular.ttf',\n",
       " '/usr/share/texmf/fonts/opentype/public/lm/lmsans10-bold.otf',\n",
       " '/usr/share/texmf/fonts/opentype/public/lm/lmromandemi10-oblique.otf',\n",
       " '/usr/share/texmf/fonts/opentype/public/lm/lmsans17-oblique.otf',\n",
       " '/usr/share/texmf/fonts/opentype/public/lm/lmmono10-italic.otf',\n",
       " '/usr/share/texmf/fonts/opentype/public/lm/lmromanslant10-regular.otf',\n",
       " '/usr/share/texmf/fonts/opentype/public/lm/lmromanslant8-regular.otf',\n",
       " '/usr/share/texmf/fonts/opentype/public/lm/lmroman17-regular.otf',\n",
       " '/usr/share/texmf/fonts/opentype/public/lm/lmromanslant9-regular.otf',\n",
       " '/usr/share/fonts/truetype/liberation/LiberationMono-Bold.ttf',\n",
       " '/usr/share/texmf/fonts/opentype/public/lm/lmsans10-boldoblique.otf',\n",
       " '/usr/share/texmf/fonts/opentype/public/lm/lmmonoslant10-regular.otf',\n",
       " '/usr/share/fonts/truetype/liberation/LiberationSans-Regular.ttf',\n",
       " '/usr/share/fonts/truetype/liberation/LiberationSansNarrow-BoldItalic.ttf',\n",
       " '/usr/share/texmf/fonts/opentype/public/lm/lmmono9-regular.otf',\n",
       " '/usr/share/texmf/fonts/opentype/public/lm/lmmonoprop10-oblique.otf',\n",
       " '/usr/share/texmf/fonts/opentype/public/lm/lmmono12-regular.otf']"
      ]
     },
     "execution_count": 2,
     "metadata": {},
     "output_type": "execute_result"
    }
   ],
   "source": [
    "#사용가능한 ttf폰트 목록(리눅스용)\n",
    "import matplotlib\n",
    "import matplotlib.font_manager\n",
    "\n",
    "[f.fname for f in matplotlib.font_manager.fontManager.ttflist]\n",
    "\n",
    "#한글 \n",
    "plt.rc('font', family='NanumGothicCoding')"
   ]
  },
  {
   "cell_type": "code",
   "execution_count": 1,
   "metadata": {},
   "outputs": [
    {
     "ename": "NameError",
     "evalue": "name 'fm' is not defined",
     "output_type": "error",
     "traceback": [
      "\u001b[0;31m\u001b[0m",
      "\u001b[0;31mNameError\u001b[0mTraceback (most recent call last)",
      "\u001b[0;32m<ipython-input-1-93fd4c220fb4>\u001b[0m in \u001b[0;36m<module>\u001b[0;34m\u001b[0m\n\u001b[0;32m----> 1\u001b[0;31m \u001b[0mfont_list\u001b[0m \u001b[0;34m=\u001b[0m \u001b[0mfm\u001b[0m\u001b[0;34m.\u001b[0m\u001b[0mfindSystemFonts\u001b[0m\u001b[0;34m(\u001b[0m\u001b[0mfontpaths\u001b[0m\u001b[0;34m=\u001b[0m\u001b[0;32mNone\u001b[0m\u001b[0;34m,\u001b[0m \u001b[0mfontext\u001b[0m\u001b[0;34m=\u001b[0m\u001b[0;34m'ttf'\u001b[0m\u001b[0;34m)\u001b[0m \u001b[0;31m# 확장자 .ttf만 가능하다\u001b[0m\u001b[0;34m\u001b[0m\u001b[0;34m\u001b[0m\u001b[0m\n\u001b[0m\u001b[1;32m      2\u001b[0m \u001b[0mprint\u001b[0m\u001b[0;34m(\u001b[0m\u001b[0mfont_list\u001b[0m\u001b[0;34m[\u001b[0m\u001b[0;34m:\u001b[0m\u001b[0;36m10\u001b[0m\u001b[0;34m]\u001b[0m\u001b[0;34m)\u001b[0m\u001b[0;34m\u001b[0m\u001b[0;34m\u001b[0m\u001b[0m\n\u001b[1;32m      3\u001b[0m \u001b[0mprint\u001b[0m \u001b[0;34m(\u001b[0m\u001b[0;34m'설정파일 위치: '\u001b[0m\u001b[0;34m,\u001b[0m \u001b[0mmpl\u001b[0m\u001b[0;34m.\u001b[0m\u001b[0mmatplotlib_fname\u001b[0m\u001b[0;34m(\u001b[0m\u001b[0;34m)\u001b[0m\u001b[0;34m)\u001b[0m\u001b[0;34m\u001b[0m\u001b[0;34m\u001b[0m\u001b[0m\n",
      "\u001b[0;31mNameError\u001b[0m: name 'fm' is not defined"
     ]
    }
   ],
   "source": [
    "#사용가능한 ttf폰트 목록(윈도우용)\n",
    "font_list = fm.findSystemFonts(fontpaths=None, fontext='ttf') # 확장자 .ttf만 가능하다\n",
    "print(font_list[:10]) \n",
    "print ('설정파일 위치: ', mpl.matplotlib_fname())"
   ]
  },
  {
   "cell_type": "code",
   "execution_count": 3,
   "metadata": {},
   "outputs": [],
   "source": [
    "# 윈도우에서 설정해 주면 되는 부분\n",
    "import matplotlib as mpl\n",
    "import matplotlib.font_manager as fm\n",
    "font_name = mpl.font_manager.FontProperties(fname='C:/Windows/Fonts/malgun.ttf').get_name() # 폴더구분자 python / 임\n",
    "mpl.rc('font', family=font_name) # ahronbd.ttf"
   ]
  },
  {
   "cell_type": "code",
   "execution_count": 5,
   "metadata": {},
   "outputs": [
    {
     "name": "stdout",
     "output_type": "stream",
     "text": [
      "# 설정 되어있는 폰트 사이즈\n",
      "10.0\n",
      "# 설정 되어있는 폰트 글꼴\n",
      "['NanumGothic']\n"
     ]
    }
   ],
   "source": [
    "# size, family\n",
    "print('# 설정 되어있는 폰트 사이즈')\n",
    "print (plt.rcParams['font.size'] ) \n",
    "print('# 설정 되어있는 폰트 글꼴')\n",
    "print (plt.rcParams['font.family'] )"
   ]
  },
  {
   "cell_type": "code",
   "execution_count": null,
   "metadata": {},
   "outputs": [],
   "source": [
    "#윈도우용\n",
    "import matplotlib as mpl\n",
    "import matplotlib.pyplot as plt\n",
    "import matplotlib.font_manager as fm\n",
    "\n",
    "font_list = fm.findSystemFonts(fontpaths=None, fontext='ttf')\n",
    "print(font_list[:10])\n",
    "print ('설정파일 위치: ', mpl.matplotlib_fname())\n",
    "\n",
    "font_name = mpl.font_manager.FontProperties(fname='C:/Windows/Fonts/malgun.ttf').get_name() # 폴더구분자 python / 임\n",
    "mpl.rc('font', family=font_name)\n",
    "\n",
    "# size, family\n",
    "print('# 설정 되어있는 폰트 사이즈')\n",
    "print (plt.rcParams['font.size'] ) \n",
    "print('# 설정 되어있는 폰트 글꼴')\n",
    "print (plt.rcParams['font.family'] )"
   ]
  }
 ],
 "metadata": {
  "kernelspec": {
   "display_name": "Python 3",
   "language": "python",
   "name": "python3"
  },
  "language_info": {
   "codemirror_mode": {
    "name": "ipython",
    "version": 3
   },
   "file_extension": ".py",
   "mimetype": "text/x-python",
   "name": "python",
   "nbconvert_exporter": "python",
   "pygments_lexer": "ipython3",
   "version": "3.7.3"
  }
 },
 "nbformat": 4,
 "nbformat_minor": 2
}
