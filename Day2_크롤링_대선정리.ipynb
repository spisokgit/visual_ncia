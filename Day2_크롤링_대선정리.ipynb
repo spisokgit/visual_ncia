{
 "cells": [
  {
   "cell_type": "markdown",
   "metadata": {},
   "source": [
    "## 전국 시도 대통령 선거 결과"
   ]
  },
  {
   "cell_type": "code",
   "execution_count": 1,
   "metadata": {},
   "outputs": [],
   "source": [
    "# local에서 장고로 브라우저 실행\n",
    "#import django\n",
    "# from selenium import webdriver\n",
    "\n",
    "# browser = webdriver.Chrome('chromedriver')\n",
    "# # chromedriver가 Python파일과 같은 위치에 있거나, 혹은 OS의 PATH에 등록되어 쉘에서 실행 가능한 경우 위와같이 한다.\n",
    "# # 혹은 browser = webdriver.Chrome('/path/to/chromedriver')의 절대경로로 해도 된다.\n",
    "# browser.get('http://localhost:8000')\n",
    "\n",
    "# assert 'Django' in browser.title\n",
    "\n",
    "# $ django-admin startproject tdd_study_proj\n",
    "# $ python manage.py runserver\n",
    "# http://127.0.0.1:8000"
   ]
  },
  {
   "cell_type": "code",
   "execution_count": 20,
   "metadata": {
    "scrolled": true
   },
   "outputs": [],
   "source": [
    "from selenium import webdriver\n",
    "import time\n",
    "# time.sleep(1) 사용하기 위해 1초동안 \n",
    "from bs4 import BeautifulSoup\n",
    "\n",
    "import pandas as pd\n",
    "import numpy as np\n",
    "import matplotlib.pyplot as plt\n",
    "%matplotlib inline"
   ]
  },
  {
   "cell_type": "code",
   "execution_count": 3,
   "metadata": {},
   "outputs": [],
   "source": [
    "election_result_raw = {'광역시도':[],\n",
    "                       '시군':[],\n",
    "                       'pop':[],\n",
    "                       'moon':[],\n",
    "                       'hong':[],\n",
    "                       'ahn':[]\n",
    "                      }"
   ]
  },
  {
   "cell_type": "code",
   "execution_count": 4,
   "metadata": {},
   "outputs": [],
   "source": [
    "import re\n",
    "def get_num(tmp):\n",
    "    return re.split('\\(', tmp)[0].replace(\",\", \"\") # "
   ]
  },
  {
   "cell_type": "code",
   "execution_count": 5,
   "metadata": {},
   "outputs": [
    {
     "name": "stderr",
     "output_type": "stream",
     "text": [
      "/opt/conda/lib/python3.7/site-packages/ipykernel_launcher.py:15: DeprecationWarning: use options instead of chrome_options\n",
      "  from ipykernel import kernelapp as app\n"
     ]
    }
   ],
   "source": [
    "# 제어 브라우저 작동(윈도우)\n",
    "# driver=webdriver.Chrome(\"chromedriver\")\n",
    "# time.sleep(1)\n",
    "\n",
    "# 제어 브라우저 작동(리눅스)\n",
    "from pyvirtualdisplay import Display\n",
    "display = Display(visible=0, size=(1024, 768))\n",
    "display.start()\n",
    "time.sleep(1)\n",
    "\n",
    "chrome_options=webdriver.ChromeOptions()\n",
    "chrome_options.add_argument('--headless')\n",
    "chrome_options.add_argument('--no-sandbox')\n",
    "chrome_options.add_argument('--disable-dev-shm-usage')\n",
    "driver= webdriver.Chrome('/usr/bin/chromedriver', chrome_options=chrome_options)\n",
    "time.sleep(1)\n",
    "\n"
   ]
  },
  {
   "cell_type": "code",
   "execution_count": 6,
   "metadata": {},
   "outputs": [],
   "source": [
    "#선관위 홈페이지 가져오기 get\n",
    "driver.get(\"http://info.nec.go.kr/main/showDocument.xhtml?electionId=0000000000&topMenuId=VC&secondMenuId=VCCP09\")\n",
    "time.sleep(1)\n",
    "\n",
    "#대통령선거 id, click\n",
    "driver.find_element_by_id(\"electionType1\").click()\n",
    "time.sleep(1)\n",
    "\n",
    "# 제19대 선택 id, send_keys\n",
    "driver.find_element_by_id(\"electionName\").send_keys(\"제19대\")\n",
    "time.sleep(1)\n",
    "\n",
    "# 대통령선거 선택 id, send_keys\n",
    "driver.find_element_by_id(\"electionCode\").send_keys(\"대통령선거\")\n",
    "time.sleep(1)\n",
    "\n",
    "# 시도이름 선택 select id\n",
    "sido_list_raw = driver.find_element_by_id(\"cityCode\")\n",
    "time.sleep(1)\n",
    "\n",
    "# 시도이름 선택 option tag\n",
    "sido_list = sido_list_raw.find_elements_by_tag_name(\"option\")\n",
    "time.sleep(1)"
   ]
  },
  {
   "cell_type": "code",
   "execution_count": 7,
   "metadata": {},
   "outputs": [
    {
     "data": {
      "text/plain": [
       "['서울특별시',\n",
       " '부산광역시',\n",
       " '대구광역시',\n",
       " '인천광역시',\n",
       " '광주광역시',\n",
       " '대전광역시',\n",
       " '울산광역시',\n",
       " '세종특별자치시',\n",
       " '경기도',\n",
       " '강원도',\n",
       " '충청북도',\n",
       " '충청남도',\n",
       " '전라북도',\n",
       " '전라남도',\n",
       " '경상북도',\n",
       " '경상남도',\n",
       " '제주특별자치도']"
      ]
     },
     "execution_count": 7,
     "metadata": {},
     "output_type": "execute_result"
    }
   ],
   "source": [
    "#시도이름 추출\n",
    "sido_names_vales=[op.text for op in sido_list]\n",
    "sido_names_vales=sido_names_vales[2:] # 합계, 선택 제외\n",
    "sido_names_vales"
   ]
  },
  {
   "cell_type": "code",
   "execution_count": 8,
   "metadata": {},
   "outputs": [],
   "source": [
    "for each_sido in sido_names_vales:\n",
    "    \n",
    "    # 시도이름 선택 select id\n",
    "    element = driver.find_element_by_id(\"cityCode\")\n",
    "    element.send_keys(each_sido)\n",
    "\n",
    "    #검색버튼 틀릭 click\n",
    "    driver.find_element_by_id(\"searchBtn\").click()\n",
    "\n",
    "    #     #시도코드 선택 send_keys\n",
    "    #     driver.find_element_by_id(\"cityCode\").send_keys(each_sido)\n",
    "\n",
    "    # 소스코드 전체파싱\n",
    "    html = driver.page_source\n",
    "\n",
    "    # 소스코드 받아오기\n",
    "    soup = BeautifulSoup(html, \"html.parser\")\n",
    "\n",
    "    # 테이블 soup에 넣기\n",
    "    table = soup.find(id=\"table01\")\n",
    "\n",
    "    # df 문자열로 바뀐 상태에서 문자열만 추출해 내어 데이터프레임형태로 list에 저장\n",
    "    df=pd.read_html(str(table))\n",
    "    \n",
    "    #print(f'df[0].values[1:]:{df[0].values[1:]}')\n",
    "    \n",
    "    for each in df[0].values[1:]:\n",
    "        election_result_raw['광역시도'].append(each_sido)\n",
    "        election_result_raw['시군'].append(each[0])\n",
    "        election_result_raw['pop'].append(each[2])  # popular 인구수\n",
    "        election_result_raw['moon'].append(get_num(each[3]))\n",
    "        election_result_raw['hong'].append(get_num(each[4]))\n",
    "        election_result_raw['ahn'].append(get_num(each[5]))\n",
    "    "
   ]
  },
  {
   "cell_type": "code",
   "execution_count": 9,
   "metadata": {},
   "outputs": [],
   "source": [
    "#election_result_raw"
   ]
  },
  {
   "cell_type": "code",
   "execution_count": 10,
   "metadata": {
    "scrolled": true
   },
   "outputs": [
    {
     "data": {
      "text/plain": [
       "['광역시도', '시군', 'pop', 'moon', 'hong', 'ahn']"
      ]
     },
     "execution_count": 10,
     "metadata": {},
     "output_type": "execute_result"
    }
   ],
   "source": [
    "columns = []\n",
    "for key in election_result_raw.keys():\n",
    "    columns.append(key)\n",
    "columns"
   ]
  },
  {
   "cell_type": "code",
   "execution_count": 11,
   "metadata": {},
   "outputs": [
    {
     "data": {
      "text/html": [
       "<div>\n",
       "<style scoped>\n",
       "    .dataframe tbody tr th:only-of-type {\n",
       "        vertical-align: middle;\n",
       "    }\n",
       "\n",
       "    .dataframe tbody tr th {\n",
       "        vertical-align: top;\n",
       "    }\n",
       "\n",
       "    .dataframe thead th {\n",
       "        text-align: right;\n",
       "    }\n",
       "</style>\n",
       "<table border=\"1\" class=\"dataframe\">\n",
       "  <thead>\n",
       "    <tr style=\"text-align: right;\">\n",
       "      <th></th>\n",
       "      <th>광역시도</th>\n",
       "      <th>시군</th>\n",
       "      <th>pop</th>\n",
       "      <th>moon</th>\n",
       "      <th>hong</th>\n",
       "      <th>ahn</th>\n",
       "    </tr>\n",
       "  </thead>\n",
       "  <tbody>\n",
       "    <tr>\n",
       "      <td>0</td>\n",
       "      <td>서울특별시</td>\n",
       "      <td>종로구</td>\n",
       "      <td>102566</td>\n",
       "      <td>42512</td>\n",
       "      <td>22325</td>\n",
       "      <td>22313</td>\n",
       "    </tr>\n",
       "    <tr>\n",
       "      <td>1</td>\n",
       "      <td>서울특별시</td>\n",
       "      <td>중구</td>\n",
       "      <td>82852</td>\n",
       "      <td>34062</td>\n",
       "      <td>17901</td>\n",
       "      <td>19372</td>\n",
       "    </tr>\n",
       "    <tr>\n",
       "      <td>2</td>\n",
       "      <td>서울특별시</td>\n",
       "      <td>용산구</td>\n",
       "      <td>148157</td>\n",
       "      <td>58081</td>\n",
       "      <td>35230</td>\n",
       "      <td>32109</td>\n",
       "    </tr>\n",
       "    <tr>\n",
       "      <td>3</td>\n",
       "      <td>서울특별시</td>\n",
       "      <td>성동구</td>\n",
       "      <td>203175</td>\n",
       "      <td>86686</td>\n",
       "      <td>40566</td>\n",
       "      <td>45674</td>\n",
       "    </tr>\n",
       "    <tr>\n",
       "      <td>4</td>\n",
       "      <td>서울특별시</td>\n",
       "      <td>광진구</td>\n",
       "      <td>240030</td>\n",
       "      <td>105512</td>\n",
       "      <td>46368</td>\n",
       "      <td>52824</td>\n",
       "    </tr>\n",
       "  </tbody>\n",
       "</table>\n",
       "</div>"
      ],
      "text/plain": [
       "    광역시도   시군     pop    moon   hong    ahn\n",
       "0  서울특별시  종로구  102566   42512  22325  22313\n",
       "1  서울특별시   중구   82852   34062  17901  19372\n",
       "2  서울특별시  용산구  148157   58081  35230  32109\n",
       "3  서울특별시  성동구  203175   86686  40566  45674\n",
       "4  서울특별시  광진구  240030  105512  46368  52824"
      ]
     },
     "execution_count": 11,
     "metadata": {},
     "output_type": "execute_result"
    }
   ],
   "source": [
    "election_result = pd.DataFrame(election_result_raw,columns = columns)\n",
    "#election_result.info()\n",
    "election_result.head()"
   ]
  },
  {
   "cell_type": "code",
   "execution_count": 12,
   "metadata": {},
   "outputs": [],
   "source": [
    "election_result.to_csv('./election_result.csv', encoding='utf-8',sep=',')"
   ]
  },
  {
   "cell_type": "code",
   "execution_count": 13,
   "metadata": {},
   "outputs": [],
   "source": [
    "#윈도우\n",
    "#driver.close()\n",
    "\n",
    "# 리눅스\n",
    "driver.quit()"
   ]
  },
  {
   "cell_type": "markdown",
   "metadata": {},
   "source": [
    "## 시각화"
   ]
  },
  {
   "cell_type": "code",
   "execution_count": 14,
   "metadata": {},
   "outputs": [
    {
     "data": {
      "text/html": [
       "<div>\n",
       "<style scoped>\n",
       "    .dataframe tbody tr th:only-of-type {\n",
       "        vertical-align: middle;\n",
       "    }\n",
       "\n",
       "    .dataframe tbody tr th {\n",
       "        vertical-align: top;\n",
       "    }\n",
       "\n",
       "    .dataframe thead th {\n",
       "        text-align: right;\n",
       "    }\n",
       "</style>\n",
       "<table border=\"1\" class=\"dataframe\">\n",
       "  <thead>\n",
       "    <tr style=\"text-align: right;\">\n",
       "      <th></th>\n",
       "      <th>광역시도</th>\n",
       "      <th>시군</th>\n",
       "      <th>pop</th>\n",
       "      <th>moon</th>\n",
       "      <th>hong</th>\n",
       "      <th>ahn</th>\n",
       "    </tr>\n",
       "  </thead>\n",
       "  <tbody>\n",
       "    <tr>\n",
       "      <td>0</td>\n",
       "      <td>서울특별시</td>\n",
       "      <td>종로구</td>\n",
       "      <td>102566</td>\n",
       "      <td>42512</td>\n",
       "      <td>22325</td>\n",
       "      <td>22313</td>\n",
       "    </tr>\n",
       "    <tr>\n",
       "      <td>1</td>\n",
       "      <td>서울특별시</td>\n",
       "      <td>중구</td>\n",
       "      <td>82852</td>\n",
       "      <td>34062</td>\n",
       "      <td>17901</td>\n",
       "      <td>19372</td>\n",
       "    </tr>\n",
       "    <tr>\n",
       "      <td>2</td>\n",
       "      <td>서울특별시</td>\n",
       "      <td>용산구</td>\n",
       "      <td>148157</td>\n",
       "      <td>58081</td>\n",
       "      <td>35230</td>\n",
       "      <td>32109</td>\n",
       "    </tr>\n",
       "    <tr>\n",
       "      <td>3</td>\n",
       "      <td>서울특별시</td>\n",
       "      <td>성동구</td>\n",
       "      <td>203175</td>\n",
       "      <td>86686</td>\n",
       "      <td>40566</td>\n",
       "      <td>45674</td>\n",
       "    </tr>\n",
       "    <tr>\n",
       "      <td>4</td>\n",
       "      <td>서울특별시</td>\n",
       "      <td>광진구</td>\n",
       "      <td>240030</td>\n",
       "      <td>105512</td>\n",
       "      <td>46368</td>\n",
       "      <td>52824</td>\n",
       "    </tr>\n",
       "  </tbody>\n",
       "</table>\n",
       "</div>"
      ],
      "text/plain": [
       "    광역시도   시군     pop    moon   hong    ahn\n",
       "0  서울특별시  종로구  102566   42512  22325  22313\n",
       "1  서울특별시   중구   82852   34062  17901  19372\n",
       "2  서울특별시  용산구  148157   58081  35230  32109\n",
       "3  서울특별시  성동구  203175   86686  40566  45674\n",
       "4  서울특별시  광진구  240030  105512  46368  52824"
      ]
     },
     "execution_count": 14,
     "metadata": {},
     "output_type": "execute_result"
    }
   ],
   "source": [
    "df=pd.read_csv('./election_result.csv', encoding='utf-8', index_col=0)\n",
    "df.head()"
   ]
  },
  {
   "cell_type": "code",
   "execution_count": 15,
   "metadata": {},
   "outputs": [
    {
     "data": {
      "text/html": [
       "<div>\n",
       "<style scoped>\n",
       "    .dataframe tbody tr th:only-of-type {\n",
       "        vertical-align: middle;\n",
       "    }\n",
       "\n",
       "    .dataframe tbody tr th {\n",
       "        vertical-align: top;\n",
       "    }\n",
       "\n",
       "    .dataframe thead th {\n",
       "        text-align: right;\n",
       "    }\n",
       "</style>\n",
       "<table border=\"1\" class=\"dataframe\">\n",
       "  <thead>\n",
       "    <tr style=\"text-align: right;\">\n",
       "      <th></th>\n",
       "      <th>pop</th>\n",
       "      <th>moon</th>\n",
       "      <th>hong</th>\n",
       "      <th>ahn</th>\n",
       "    </tr>\n",
       "    <tr>\n",
       "      <th>광역시도</th>\n",
       "      <th></th>\n",
       "      <th></th>\n",
       "      <th></th>\n",
       "      <th></th>\n",
       "    </tr>\n",
       "  </thead>\n",
       "  <tbody>\n",
       "    <tr>\n",
       "      <td>강원도</td>\n",
       "      <td>955885</td>\n",
       "      <td>324768</td>\n",
       "      <td>284909</td>\n",
       "      <td>206840</td>\n",
       "    </tr>\n",
       "    <tr>\n",
       "      <td>경기도</td>\n",
       "      <td>7916009</td>\n",
       "      <td>3319812</td>\n",
       "      <td>1637345</td>\n",
       "      <td>1807308</td>\n",
       "    </tr>\n",
       "    <tr>\n",
       "      <td>경상남도</td>\n",
       "      <td>2135055</td>\n",
       "      <td>779731</td>\n",
       "      <td>790491</td>\n",
       "      <td>284272</td>\n",
       "    </tr>\n",
       "    <tr>\n",
       "      <td>경상북도</td>\n",
       "      <td>1711627</td>\n",
       "      <td>369726</td>\n",
       "      <td>827237</td>\n",
       "      <td>253905</td>\n",
       "    </tr>\n",
       "    <tr>\n",
       "      <td>광주광역시</td>\n",
       "      <td>957321</td>\n",
       "      <td>583847</td>\n",
       "      <td>14882</td>\n",
       "      <td>287222</td>\n",
       "    </tr>\n",
       "  </tbody>\n",
       "</table>\n",
       "</div>"
      ],
      "text/plain": [
       "           pop     moon     hong      ahn\n",
       "광역시도                                     \n",
       "강원도     955885   324768   284909   206840\n",
       "경기도    7916009  3319812  1637345  1807308\n",
       "경상남도   2135055   779731   790491   284272\n",
       "경상북도   1711627   369726   827237   253905\n",
       "광주광역시   957321   583847    14882   287222"
      ]
     },
     "execution_count": 15,
     "metadata": {},
     "output_type": "execute_result"
    }
   ],
   "source": [
    "df2=df.drop(\"시군\", axis=1).groupby('광역시도').sum()\n",
    "df2.head()"
   ]
  },
  {
   "cell_type": "code",
   "execution_count": 43,
   "metadata": {},
   "outputs": [
    {
     "data": {
      "text/plain": [
       "['cmsy10',\n",
       " 'cmex10',\n",
       " 'STIXNonUnicode',\n",
       " 'DejaVu Sans Mono',\n",
       " 'cmmi10',\n",
       " 'STIXNonUnicode',\n",
       " 'DejaVu Sans',\n",
       " 'DejaVu Serif',\n",
       " 'DejaVu Sans',\n",
       " 'cmtt10',\n",
       " 'STIXGeneral',\n",
       " 'DejaVu Serif Display',\n",
       " 'STIXSizeTwoSym',\n",
       " 'STIXSizeFourSym',\n",
       " 'STIXSizeThreeSym',\n",
       " 'STIXGeneral',\n",
       " 'STIXGeneral',\n",
       " 'DejaVu Sans Display',\n",
       " 'STIXSizeThreeSym',\n",
       " 'STIXNonUnicode',\n",
       " 'STIXNonUnicode',\n",
       " 'NanumGothicCoding',\n",
       " 'DejaVu Sans Mono',\n",
       " 'DejaVu Sans Mono',\n",
       " 'DejaVu Serif',\n",
       " 'NanumGothicCoding',\n",
       " 'cmss10',\n",
       " 'cmb10',\n",
       " 'STIXSizeTwoSym',\n",
       " 'DejaVu Serif',\n",
       " 'DejaVu Serif',\n",
       " 'STIXSizeFiveSym',\n",
       " 'STIXSizeFourSym',\n",
       " 'DejaVu Sans Mono',\n",
       " 'DejaVu Sans',\n",
       " 'DejaVu Sans',\n",
       " 'cmr10',\n",
       " 'STIXSizeOneSym',\n",
       " 'STIXSizeOneSym',\n",
       " 'STIXGeneral',\n",
       " 'Latin Modern Roman',\n",
       " 'Latin Modern Roman',\n",
       " 'Latin Modern Mono Light',\n",
       " 'Latin Modern Roman',\n",
       " 'Latin Modern Roman',\n",
       " 'Latin Modern Roman',\n",
       " 'Latin Modern Roman Demi',\n",
       " 'Latin Modern Roman',\n",
       " 'Latin Modern Roman',\n",
       " 'Latin Modern Mono Light',\n",
       " 'Latin Modern Sans',\n",
       " 'Latin Modern Sans',\n",
       " 'Latin Modern Roman',\n",
       " 'Liberation Serif',\n",
       " 'Latin Modern Roman',\n",
       " 'Latin Modern Roman Slanted',\n",
       " 'Latin Modern Roman',\n",
       " 'Latin Modern Mono Prop Light',\n",
       " 'Latin Modern Mono Caps',\n",
       " 'Latin Modern Mono Prop',\n",
       " 'Latin Modern Mono',\n",
       " 'Latin Modern Sans Quotation',\n",
       " 'Latin Modern Sans',\n",
       " 'Latin Modern Roman Caps',\n",
       " 'Latin Modern Sans',\n",
       " 'Latin Modern Sans',\n",
       " 'Liberation Mono',\n",
       " 'Latin Modern Sans Demi Cond',\n",
       " 'Latin Modern Roman',\n",
       " 'Latin Modern Mono Prop Light',\n",
       " 'Latin Modern Roman',\n",
       " 'Liberation Serif',\n",
       " 'Latin Modern Mono',\n",
       " 'Latin Modern Sans Demi Cond',\n",
       " 'Latin Modern Roman Dunhill',\n",
       " 'Latin Modern Mono Prop Light',\n",
       " 'Liberation Sans',\n",
       " 'Liberation Sans Narrow',\n",
       " 'Latin Modern Roman',\n",
       " 'Latin Modern Sans',\n",
       " 'Liberation Sans Narrow',\n",
       " 'Latin Modern Sans',\n",
       " 'Latin Modern Sans Quotation',\n",
       " 'Latin Modern Math',\n",
       " 'Latin Modern Roman',\n",
       " 'Latin Modern Roman',\n",
       " 'Latin Modern Roman Caps',\n",
       " 'Liberation Sans',\n",
       " 'Latin Modern Mono Prop Light',\n",
       " 'Latin Modern Mono Light Cond',\n",
       " 'Latin Modern Sans Quotation',\n",
       " 'Latin Modern Sans',\n",
       " 'Latin Modern Roman',\n",
       " 'Latin Modern Mono Caps',\n",
       " 'Latin Modern Sans',\n",
       " 'Latin Modern Sans Quotation',\n",
       " 'Latin Modern Roman',\n",
       " 'Liberation Mono',\n",
       " 'Liberation Serif',\n",
       " 'Latin Modern Roman Slanted',\n",
       " 'Latin Modern Roman Unslanted',\n",
       " 'Latin Modern Mono Light',\n",
       " 'Latin Modern Roman Slanted',\n",
       " 'Liberation Serif',\n",
       " 'Latin Modern Roman',\n",
       " 'Liberation Sans',\n",
       " 'Latin Modern Roman Dunhill',\n",
       " 'Latin Modern Roman',\n",
       " 'Latin Modern Mono Light Cond',\n",
       " 'Latin Modern Mono Light',\n",
       " 'Liberation Mono',\n",
       " 'Latin Modern Roman',\n",
       " 'Liberation Sans Narrow',\n",
       " 'Latin Modern Sans',\n",
       " 'Latin Modern Roman Demi',\n",
       " 'Latin Modern Sans',\n",
       " 'Latin Modern Mono',\n",
       " 'Latin Modern Roman Slanted',\n",
       " 'Latin Modern Roman Slanted',\n",
       " 'Latin Modern Roman',\n",
       " 'Latin Modern Roman Slanted',\n",
       " 'Liberation Mono',\n",
       " 'Latin Modern Sans',\n",
       " 'Latin Modern Mono Slanted',\n",
       " 'Liberation Sans',\n",
       " 'Liberation Sans Narrow',\n",
       " 'Latin Modern Mono',\n",
       " 'Latin Modern Mono Prop',\n",
       " 'Latin Modern Mono']"
      ]
     },
     "execution_count": 43,
     "metadata": {},
     "output_type": "execute_result"
    }
   ],
   "source": [
    "#사용가능한 ttf폰트 목록(리눅스용)\n",
    "import matplotlib\n",
    "import matplotlib.font_manager\n",
    "\n",
    "#[f.fname for f in matplotlib.font_manager.fontManager.ttflist]\n",
    "\n",
    "# 설치된 폰트 출력\n",
    "# font_list = [f.name for f in matplotlib.font_manager.fontManager.ttflist]\n",
    "# font_list"
   ]
  },
  {
   "cell_type": "code",
   "execution_count": 44,
   "metadata": {},
   "outputs": [],
   "source": [
    "#한글 \n",
    "plt.rc('font', family= 'NanumGothicCoding')\n",
    "#plt.rcParams['font.family'] = 'NanumGothicCoding"
   ]
  },
  {
   "cell_type": "code",
   "execution_count": 46,
   "metadata": {},
   "outputs": [
    {
     "data": {
      "image/png": "[encoded data removed]",
      "text/plain": [
       "<Figure size 864x432 with 1 Axes>"
      ]
     },
     "metadata": {},
     "output_type": "display_data"
    }
   ],
   "source": [
    "# 판다스로 plot 구현\n",
    "df2.plot(kind='bar', title='제19대 대선 시도별 결과', figsize=(12, 6), legend=True, fontsize=12)\n",
    "#plt.rcParams['figure.figsize'] = [18, 12] # plt.figure(figuresize=(,))  #plt.figure(dpi = 300)\n",
    "#plt.title('제19대 대선 시도별 결과')\n",
    "plt.ylabel('득표수')\n",
    "plt.show()"
   ]
  },
  {
   "cell_type": "code",
   "execution_count": 51,
   "metadata": {},
   "outputs": [
    {
     "data": {
      "text/plain": [
       "Text(0, 0.5, '득표수')"
      ]
     },
     "execution_count": 51,
     "metadata": {},
     "output_type": "execute_result"
    },
    {
     "data": {
      "image/png": "[encoded data removed]",
      "text/plain": [
       "<Figure size 864x432 with 1 Axes>"
      ]
     },
     "metadata": {},
     "output_type": "display_data"
    }
   ],
   "source": [
    "# 판단스와 시본으로 구현\n",
    "import seaborn as sns\n",
    "df3=df2.drop('pop', axis=1)\n",
    "sns.set()\n",
    "ax=df3.plot(kind='bar', stacked=True, title='제19대 대선 시도별 결과', figsize=(12, 6), legend=True, fontsize=12)\n",
    "#plt.rcParams['figure.figsize'] = [24, 16] # plt.figure(figuresize=(,))  #plt.figure(dpi = 300)\n",
    "#plt.title('제19대 대선 시도별 결과')\n",
    "ax.set_xlabel('시도', fontsize=12)          # x축 정보 표시\n",
    "ax.set_ylabel('득표수', fontsize=12)     # y축 정보 표시\n",
    "#ax.legend( ['', '습도'], fontsize=12) \n",
    "#plt.ylabel('득표수')\n",
    "#plt.show()\n"
   ]
  },
  {
   "cell_type": "code",
   "execution_count": 19,
   "metadata": {},
   "outputs": [
    {
     "ename": "ValueError",
     "evalue": "No group keys passed!",
     "output_type": "error",
     "traceback": [
      "\u001b[0;31m\u001b[0m",
      "\u001b[0;31mValueError\u001b[0mTraceback (most recent call last)",
      "\u001b[0;32m<ipython-input-19-616fdd969325>\u001b[0m in \u001b[0;36m<module>\u001b[0;34m\u001b[0m\n\u001b[1;32m      8\u001b[0m \u001b[0;31m# 출처: https://rfriend.tistory.com/411 [R, Python 분석과 프로그래밍의 친구 (by R Friend)]\u001b[0m\u001b[0;34m\u001b[0m\u001b[0;34m\u001b[0m\u001b[0;34m\u001b[0m\u001b[0m\n\u001b[1;32m      9\u001b[0m \u001b[0;34m\u001b[0m\u001b[0m\n\u001b[0;32m---> 10\u001b[0;31m \u001b[0mpd\u001b[0m\u001b[0;34m.\u001b[0m\u001b[0mDataFrame\u001b[0m\u001b[0;34m(\u001b[0m\u001b[0mdf\u001b[0m\u001b[0;34m.\u001b[0m\u001b[0mgroupby\u001b[0m\u001b[0;34m(\u001b[0m\u001b[0;34m[\u001b[0m\u001b[0;34m]\u001b[0m\u001b[0;34m)\u001b[0m\u001b[0;34m)\u001b[0m\u001b[0;34m\u001b[0m\u001b[0;34m\u001b[0m\u001b[0m\n\u001b[0m\u001b[1;32m     11\u001b[0m \u001b[0;31m#['광역시도', '시군', 'pop', 'moon', 'hong', 'ahn']\u001b[0m\u001b[0;34m\u001b[0m\u001b[0;34m\u001b[0m\u001b[0;34m\u001b[0m\u001b[0m\n\u001b[1;32m     12\u001b[0m \u001b[0;34m\u001b[0m\u001b[0m\n",
      "\u001b[0;32m/opt/conda/lib/python3.7/site-packages/pandas/core/generic.py\u001b[0m in \u001b[0;36mgroupby\u001b[0;34m(self, by, axis, level, as_index, sort, group_keys, squeeze, observed, **kwargs)\u001b[0m\n\u001b[1;32m   7892\u001b[0m             \u001b[0msqueeze\u001b[0m\u001b[0;34m=\u001b[0m\u001b[0msqueeze\u001b[0m\u001b[0;34m,\u001b[0m\u001b[0;34m\u001b[0m\u001b[0;34m\u001b[0m\u001b[0m\n\u001b[1;32m   7893\u001b[0m             \u001b[0mobserved\u001b[0m\u001b[0;34m=\u001b[0m\u001b[0mobserved\u001b[0m\u001b[0;34m,\u001b[0m\u001b[0;34m\u001b[0m\u001b[0;34m\u001b[0m\u001b[0m\n\u001b[0;32m-> 7894\u001b[0;31m             \u001b[0;34m**\u001b[0m\u001b[0mkwargs\u001b[0m\u001b[0;34m\u001b[0m\u001b[0;34m\u001b[0m\u001b[0m\n\u001b[0m\u001b[1;32m   7895\u001b[0m         )\n\u001b[1;32m   7896\u001b[0m \u001b[0;34m\u001b[0m\u001b[0m\n",
      "\u001b[0;32m/opt/conda/lib/python3.7/site-packages/pandas/core/groupby/groupby.py\u001b[0m in \u001b[0;36mgroupby\u001b[0;34m(obj, by, **kwds)\u001b[0m\n\u001b[1;32m   2520\u001b[0m         \u001b[0;32mraise\u001b[0m \u001b[0mTypeError\u001b[0m\u001b[0;34m(\u001b[0m\u001b[0;34m\"invalid type: {}\"\u001b[0m\u001b[0;34m.\u001b[0m\u001b[0mformat\u001b[0m\u001b[0;34m(\u001b[0m\u001b[0mobj\u001b[0m\u001b[0;34m)\u001b[0m\u001b[0;34m)\u001b[0m\u001b[0;34m\u001b[0m\u001b[0;34m\u001b[0m\u001b[0m\n\u001b[1;32m   2521\u001b[0m \u001b[0;34m\u001b[0m\u001b[0m\n\u001b[0;32m-> 2522\u001b[0;31m     \u001b[0;32mreturn\u001b[0m \u001b[0mklass\u001b[0m\u001b[0;34m(\u001b[0m\u001b[0mobj\u001b[0m\u001b[0;34m,\u001b[0m \u001b[0mby\u001b[0m\u001b[0;34m,\u001b[0m \u001b[0;34m**\u001b[0m\u001b[0mkwds\u001b[0m\u001b[0;34m)\u001b[0m\u001b[0;34m\u001b[0m\u001b[0;34m\u001b[0m\u001b[0m\n\u001b[0m",
      "\u001b[0;32m/opt/conda/lib/python3.7/site-packages/pandas/core/groupby/groupby.py\u001b[0m in \u001b[0;36m__init__\u001b[0;34m(self, obj, keys, axis, level, grouper, exclusions, selection, as_index, sort, group_keys, squeeze, observed, **kwargs)\u001b[0m\n\u001b[1;32m    389\u001b[0m                 \u001b[0msort\u001b[0m\u001b[0;34m=\u001b[0m\u001b[0msort\u001b[0m\u001b[0;34m,\u001b[0m\u001b[0;34m\u001b[0m\u001b[0;34m\u001b[0m\u001b[0m\n\u001b[1;32m    390\u001b[0m                 \u001b[0mobserved\u001b[0m\u001b[0;34m=\u001b[0m\u001b[0mobserved\u001b[0m\u001b[0;34m,\u001b[0m\u001b[0;34m\u001b[0m\u001b[0;34m\u001b[0m\u001b[0m\n\u001b[0;32m--> 391\u001b[0;31m                 \u001b[0mmutated\u001b[0m\u001b[0;34m=\u001b[0m\u001b[0mself\u001b[0m\u001b[0;34m.\u001b[0m\u001b[0mmutated\u001b[0m\u001b[0;34m,\u001b[0m\u001b[0;34m\u001b[0m\u001b[0;34m\u001b[0m\u001b[0m\n\u001b[0m\u001b[1;32m    392\u001b[0m             )\n\u001b[1;32m    393\u001b[0m \u001b[0;34m\u001b[0m\u001b[0m\n",
      "\u001b[0;32m/opt/conda/lib/python3.7/site-packages/pandas/core/groupby/grouper.py\u001b[0m in \u001b[0;36m_get_grouper\u001b[0;34m(obj, key, axis, level, sort, observed, mutated, validate)\u001b[0m\n\u001b[1;32m    657\u001b[0m \u001b[0;34m\u001b[0m\u001b[0m\n\u001b[1;32m    658\u001b[0m     \u001b[0;32mif\u001b[0m \u001b[0mlen\u001b[0m\u001b[0;34m(\u001b[0m\u001b[0mgroupings\u001b[0m\u001b[0;34m)\u001b[0m \u001b[0;34m==\u001b[0m \u001b[0;36m0\u001b[0m \u001b[0;32mand\u001b[0m \u001b[0mlen\u001b[0m\u001b[0;34m(\u001b[0m\u001b[0mobj\u001b[0m\u001b[0;34m)\u001b[0m\u001b[0;34m:\u001b[0m\u001b[0;34m\u001b[0m\u001b[0;34m\u001b[0m\u001b[0m\n\u001b[0;32m--> 659\u001b[0;31m         \u001b[0;32mraise\u001b[0m \u001b[0mValueError\u001b[0m\u001b[0;34m(\u001b[0m\u001b[0;34m\"No group keys passed!\"\u001b[0m\u001b[0;34m)\u001b[0m\u001b[0;34m\u001b[0m\u001b[0;34m\u001b[0m\u001b[0m\n\u001b[0m\u001b[1;32m    660\u001b[0m     \u001b[0;32melif\u001b[0m \u001b[0mlen\u001b[0m\u001b[0;34m(\u001b[0m\u001b[0mgroupings\u001b[0m\u001b[0;34m)\u001b[0m \u001b[0;34m==\u001b[0m \u001b[0;36m0\u001b[0m\u001b[0;34m:\u001b[0m\u001b[0;34m\u001b[0m\u001b[0;34m\u001b[0m\u001b[0m\n\u001b[1;32m    661\u001b[0m         \u001b[0mgroupings\u001b[0m\u001b[0;34m.\u001b[0m\u001b[0mappend\u001b[0m\u001b[0;34m(\u001b[0m\u001b[0mGrouping\u001b[0m\u001b[0;34m(\u001b[0m\u001b[0mIndex\u001b[0m\u001b[0;34m(\u001b[0m\u001b[0;34m[\u001b[0m\u001b[0;34m]\u001b[0m\u001b[0;34m,\u001b[0m \u001b[0mdtype\u001b[0m\u001b[0;34m=\u001b[0m\u001b[0;34m\"int\"\u001b[0m\u001b[0;34m)\u001b[0m\u001b[0;34m,\u001b[0m \u001b[0mnp\u001b[0m\u001b[0;34m.\u001b[0m\u001b[0marray\u001b[0m\u001b[0;34m(\u001b[0m\u001b[0;34m[\u001b[0m\u001b[0;34m]\u001b[0m\u001b[0;34m,\u001b[0m \u001b[0mdtype\u001b[0m\u001b[0;34m=\u001b[0m\u001b[0mnp\u001b[0m\u001b[0;34m.\u001b[0m\u001b[0mintp\u001b[0m\u001b[0;34m)\u001b[0m\u001b[0;34m)\u001b[0m\u001b[0;34m)\u001b[0m\u001b[0;34m\u001b[0m\u001b[0;34m\u001b[0m\u001b[0m\n",
      "\u001b[0;31mValueError\u001b[0m: No group keys passed!"
     ]
    },
    {
     "data": {
      "text/plain": [
       "<Figure size 7200x4800 with 0 Axes>"
      ]
     },
     "metadata": {},
     "output_type": "display_data"
    }
   ],
   "source": [
    "# import seaborn as sns\n",
    "# plt.figure(dpi = 300)\n",
    "# #plt.rcParams['figure.figsize'] = [8, 6] # setting figure size\n",
    "\n",
    "# # tips_sum_by_day_sex = pd.DataFrame(tips.groupby(['day', 'sex']).tip.sum())\n",
    "# # tips_sum_by_day_sex = tips_sum_by_day_sex.reset_index()\n",
    "# # tips_sum_by_day_sex\n",
    "# # 출처: https://rfriend.tistory.com/411 [R, Python 분석과 프로그래밍의 친구 (by R Friend)]\n",
    "\n",
    "# pd.DataFrame(df.groupby([]))\n",
    "#['광역시도', '시군', 'pop', 'moon', 'hong', 'ahn']\n",
    "\n",
    "# 다차원복합데이터\n",
    "#sns.barplot(x=\"temperature\", y=\"humidity\", hue=\"point\", data=city_df) # hue label \n",
    "#sns.barplot(x=\"temperature\", y=\"humidity\", hue=\"point\", data=city_nd)\n",
    "\n",
    "# 2차원복합데이터\n",
    "# sns.barplot(x=\"시군\", y=\"최대승객수\", data=df_t, hue='지하철역') # 2차원 복합 ===> 성공\n",
    "# data : DataFrame, array, or list of arrays,\n",
    "# x, y, hue : names of variables in ``data`` or vector data, optional\n",
    "#     Inputs for plotting long-form data. See examples for interpretation.    \n",
    "\n",
    "# 1차원데이터\n",
    "#sns.distplot(df, kde=True, rug=True) # error # Series, 1d-array, or list.\n",
    "\n",
    "# catplot  => 실패\n",
    "# sns.catplot(x=\"temperature\", y=\"humidity\", hue=\"point\", row=\"humidity\", data=city_df,\n",
    "#             kind=\"bar\", split=False, height=2, aspect=4)\n",
    "\n",
    "\n",
    "# Stacked Bar Chart\n",
    "# sns.barplot(x='day', y='tip', hue='sex', data=tips_sum_by_day_sex, \n",
    "#            dodge=False) # stacked bar chart\n",
    "# plt.title('Stacked Bar Chart by Seaborn', fontsize='20')\n",
    "# plt.show()\n",
    "\n",
    "# # Dodged Bar Chart\n",
    "# sns.barplot(x='pop', y='moon', hue='광역시도', data=df) # default : dodge=True\n",
    "# plt.title('Dodged Bar Chart by Seaborn 서울광역시', fontsize=20)\n",
    "# plt.legend(fontsize=12)\n",
    "# plt.show()\n",
    "\n",
    "#['광역시도', '시군', 'pop', 'moon', 'hong', 'ahn']\n",
    "#plt.title(\"서울 2019년 1월 시간대별 최대 승차한 지하철\")\n",
    "#plt.legend()\n",
    "#plt.show()"
   ]
  },
  {
   "cell_type": "code",
   "execution_count": null,
   "metadata": {},
   "outputs": [],
   "source": []
  }
 ],
 "metadata": {
  "kernelspec": {
   "display_name": "Python 3",
   "language": "python",
   "name": "python3"
  },
  "language_info": {
   "codemirror_mode": {
    "name": "ipython",
    "version": 3
   },
   "file_extension": ".py",
   "mimetype": "text/x-python",
   "name": "python",
   "nbconvert_exporter": "python",
   "pygments_lexer": "ipython3",
   "version": "3.7.3"
  }
 },
 "nbformat": 4,
 "nbformat_minor": 2
}
