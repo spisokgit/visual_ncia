{
 "cells": [
  {
   "cell_type": "code",
   "execution_count": 1,
   "metadata": {},
   "outputs": [],
   "source": [
    "# T-mondy 사이트 https://pay.tmoney.co.kr/index.dev\n",
    "# 교통카드 통계자료에서 excel 데이터 받기\n",
    "# 데이터 정리 : 교재 63-65 "
   ]
  },
  {
   "cell_type": "code",
   "execution_count": 2,
   "metadata": {},
   "outputs": [],
   "source": [
    "import csv # 읽어만 보겠다. # pandas는 메모리에 계속 가지고 있으나, csv는 \n",
    "import pandas as pd\n",
    "import matplotlib.pyplot as plt\n",
    "%matplotlib inline"
   ]
  },
  {
   "cell_type": "code",
   "execution_count": 3,
   "metadata": {},
   "outputs": [
    {
     "data": {
      "text/plain": [
       "<function matplotlib.pyplot.bar(x, height, width=0.8, bottom=None, *, align='center', data=None, **kwargs)>"
      ]
     },
     "execution_count": 3,
     "metadata": {},
     "output_type": "execute_result"
    }
   ],
   "source": [
    "plt.bar"
   ]
  },
  {
   "cell_type": "code",
   "execution_count": 4,
   "metadata": {
    "scrolled": true
   },
   "outputs": [
    {
     "name": "stdout",
     "output_type": "stream",
     "text": [
      "598\n"
     ]
    },
    {
     "data": {
      "image/png": "[encoded data removed]",
      "text/plain": [
       "<Figure size 720x288 with 1 Axes>"
      ]
     },
     "metadata": {
      "needs_background": "light"
     },
     "output_type": "display_data"
    }
   ],
   "source": [
    "f = open(\"subwaytime.csv\")\n",
    "data  = csv.reader(f)\n",
    "# data  <_csv.reader at 0x95e7868>\n",
    "# list(data) # list(data) #출력하면 데이터가 메모리에서 없어짐 아래\n",
    "#print(len(list(data))) #출력하면  아래 실행안됨 메모리에서 사라짐\n",
    "\n",
    "next(data) # 한줄recode  건너뛰기\n",
    "next(data) # 또 한줄 recode 건너뛰기\n",
    "\n",
    "# 07 ~ 9시 시간대 승차인원 더하기 <==엑셀에서 파악\n",
    "result=[]\n",
    "for row in data: # data 문자\n",
    "    \n",
    "    #column 4번째부터 int형으로 변환하여 덮어쓰기\n",
    "    row[4:] = map(int, row[4:])\n",
    "    \n",
    "    #07 ~ 9시 시간대 승차인원 더하기\n",
    "    result.append(sum(row[10:15:2])) # 엑셀에서 보면 2칸씩\n",
    "    \n",
    "print(len(result))\n",
    "#print(result)\n",
    "    \n",
    "\n",
    "plt.figure(figsize=(10,4))    # plt.rcParams['figure.figsize'] = [6, 4]\n",
    "result.sort() #오름차순       # sorted(result)\n",
    "plt.bar(range(len(result)), result)\n",
    "plt.show()"
   ]
  },
  {
   "cell_type": "code",
   "execution_count": null,
   "metadata": {},
   "outputs": [],
   "source": []
  }
 ],
 "metadata": {
  "kernelspec": {
   "display_name": "Python 3",
   "language": "python",
   "name": "python3"
  },
  "language_info": {
   "codemirror_mode": {
    "name": "ipython",
    "version": 3
   },
   "file_extension": ".py",
   "mimetype": "text/x-python",
   "name": "python",
   "nbconvert_exporter": "python",
   "pygments_lexer": "ipython3",
   "version": "3.7.3"
  }
 },
 "nbformat": 4,
 "nbformat_minor": 2
}
