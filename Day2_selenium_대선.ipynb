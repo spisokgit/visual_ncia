{
 "cells": [
  {
   "cell_type": "code",
   "execution_count": 1,
   "metadata": {},
   "outputs": [],
   "source": [
    "import requests\n",
    "from bs4 import BeautifulSoup\n",
    "\n",
    "import pandas as pd\n",
    "import numpy as np\n",
    "import matplotlib.pyplot as plt\n",
    "%matplotlib inline"
   ]
  },
  {
   "cell_type": "code",
   "execution_count": 2,
   "metadata": {},
   "outputs": [],
   "source": [
    "from selenium import webdriver\n",
    "import time"
   ]
  },
  {
   "cell_type": "code",
   "execution_count": 3,
   "metadata": {},
   "outputs": [],
   "source": [
    "driver=webdriver.Chrome(\"./program/chromedriver.exe\")\n",
    "# 제어 브라우저 작동됨"
   ]
  },
  {
   "cell_type": "code",
   "execution_count": 4,
   "metadata": {},
   "outputs": [],
   "source": [
    "#선관위 홈페이지 가져오기\n",
    "driver.get(\"http://info.nec.go.kr/main/showDocument.xhtml?electionId=0000000000&topMenuId=VC&secondMenuId=VCCP09\")"
   ]
  },
  {
   "cell_type": "code",
   "execution_count": 5,
   "metadata": {},
   "outputs": [],
   "source": [
    "driver.find_element_by_id(\"electionType1\").click()"
   ]
  },
  {
   "cell_type": "code",
   "execution_count": 6,
   "metadata": {},
   "outputs": [],
   "source": [
    "driver.find_element_by_id(\"electionName\").send_keys(\"제19대\")"
   ]
  },
  {
   "cell_type": "code",
   "execution_count": 7,
   "metadata": {},
   "outputs": [],
   "source": [
    "driver.find_element_by_id(\"electionCode\").send_keys(\"대통령선거\")"
   ]
  },
  {
   "cell_type": "code",
   "execution_count": 8,
   "metadata": {},
   "outputs": [],
   "source": [
    "# select id\n",
    "sido_list_raw = driver.find_element_by_id(\"cityCode\")\n",
    "#  option tag\n",
    "sido_list = sido_list_raw.find_elements_by_tag_name(\"option\")"
   ]
  },
  {
   "cell_type": "code",
   "execution_count": 9,
   "metadata": {},
   "outputs": [
    {
     "data": {
      "text/plain": [
       "['▽ 선 택',\n",
       " '▷ 전 체',\n",
       " '서울특별시',\n",
       " '부산광역시',\n",
       " '대구광역시',\n",
       " '인천광역시',\n",
       " '광주광역시',\n",
       " '대전광역시',\n",
       " '울산광역시',\n",
       " '세종특별자치시',\n",
       " '경기도',\n",
       " '강원도',\n",
       " '충청북도',\n",
       " '충청남도',\n",
       " '전라북도',\n",
       " '전라남도',\n",
       " '경상북도',\n",
       " '경상남도',\n",
       " '제주특별자치도']"
      ]
     },
     "execution_count": 9,
     "metadata": {},
     "output_type": "execute_result"
    }
   ],
   "source": [
    "# sido_names_vales=[]\n",
    "# for idx, op in enumerate(sido_list):\n",
    "# #     print(f'idx : {idx}, option : {op}')\n",
    "# #     print(f'option.text : {op.text}')\n",
    "# #     print()\n",
    "#     sido_names_vales.append(op.text)\n",
    "# sido_names_vales\n",
    "\n",
    "#for문 대신 리스트내포\n",
    "sido_names_vales=[op.text for op in sido_list]\n",
    "sido_names_vales"
   ]
  },
  {
   "cell_type": "code",
   "execution_count": 10,
   "metadata": {},
   "outputs": [
    {
     "data": {
      "text/plain": [
       "['서울특별시',\n",
       " '부산광역시',\n",
       " '대구광역시',\n",
       " '인천광역시',\n",
       " '광주광역시',\n",
       " '대전광역시',\n",
       " '울산광역시',\n",
       " '세종특별자치시',\n",
       " '경기도',\n",
       " '강원도',\n",
       " '충청북도',\n",
       " '충청남도',\n",
       " '전라북도',\n",
       " '전라남도',\n",
       " '경상북도',\n",
       " '경상남도',\n",
       " '제주특별자치도']"
      ]
     },
     "execution_count": 10,
     "metadata": {},
     "output_type": "execute_result"
    }
   ],
   "source": [
    "sido_names_vales=sido_names_vales[2:]\n",
    "sido_names_vales"
   ]
  },
  {
   "cell_type": "code",
   "execution_count": null,
   "metadata": {},
   "outputs": [],
   "source": []
  }
 ],
 "metadata": {
  "kernelspec": {
   "display_name": "Python 3",
   "language": "python",
   "name": "python3"
  },
  "language_info": {
   "codemirror_mode": {
    "name": "ipython",
    "version": 3
   },
   "file_extension": ".py",
   "mimetype": "text/x-python",
   "name": "python",
   "nbconvert_exporter": "python",
   "pygments_lexer": "ipython3",
   "version": "3.7.3"
  }
 },
 "nbformat": 4,
 "nbformat_minor": 2
}
